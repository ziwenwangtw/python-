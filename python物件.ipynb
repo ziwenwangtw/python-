{
 "cells": [
  {
   "cell_type": "code",
   "execution_count": 2,
   "metadata": {},
   "outputs": [
    {
     "name": "stdout",
     "output_type": "stream",
     "text": [
      "python\n",
      "javascript\n",
      "SQL\n",
      "SQL\n",
      "javascript\n",
      "java\n",
      "4\n",
      "['python', 'javascript', 'SQL', 'java']\n",
      "['c#', 'python', 'javascript', 'SQL', 'java']\n",
      "['c#', 'python', 'javascript', 'SQL']\n",
      "['python', 'javascript', 'SQL']\n"
     ]
    }
   ],
   "source": [
    "my_list=[]\n",
    "my_list1=list()\n",
    "my_list2=[\"python\",\"javascript\",\"SQL\"]\n",
    "print(my_list2[0])\n",
    "print(my_list2[1])\n",
    "print(my_list2[2])\n",
    "print(my_list2[-1])\n",
    "print(my_list2[-2])\n",
    "my_list2.append(\"java\")\n",
    "print(my_list2[-1])\n",
    "print(len(my_list2))\n",
    "print(my_list2)\n",
    "my_list2.insert(0,\"c#\")\n",
    "print(my_list2)\n",
    "del my_list2[-1]\n",
    "print(my_list2)\n",
    "my_list2.remove(\"c#\")\n",
    "print(my_list2)"
   ]
  },
  {
   "cell_type": "markdown",
   "metadata": {},
   "source": [
    "Python物件: List[], Tuple(), Dict{}, Sets"
   ]
  },
  {
   "cell_type": "code",
   "execution_count": 3,
   "metadata": {},
   "outputs": [
    {
     "name": "stdout",
     "output_type": "stream",
     "text": [
      "python\n",
      "js\n",
      "SQL\n"
     ]
    }
   ],
   "source": [
    "my_list0=[]\n",
    "my_list1=list()\n",
    "my_list2=[\"python\",\"js\",\"SQL\"]\n",
    "print(my_list2[0])\n",
    "print(my_list2[1])\n",
    "print(my_list2[2])"
   ]
  },
  {
   "cell_type": "markdown",
   "metadata": {},
   "source": [
    "附加於最後"
   ]
  },
  {
   "cell_type": "code",
   "execution_count": 4,
   "metadata": {},
   "outputs": [
    {
     "name": "stdout",
     "output_type": "stream",
     "text": [
      "4\n",
      "6\n"
     ]
    }
   ],
   "source": [
    "my_list2 = [\"python\",\"js\",\"SQL\"]\n",
    "my_list2.append(\"java\")\n",
    "my_list2[3]\n",
    "print(len(my_list2))\n",
    "print(len(my_list2[0]))"
   ]
  },
  {
   "cell_type": "markdown",
   "metadata": {},
   "source": [
    "新增至特定位置"
   ]
  },
  {
   "cell_type": "code",
   "execution_count": 5,
   "metadata": {},
   "outputs": [
    {
     "name": "stdout",
     "output_type": "stream",
     "text": [
      "['java', 'python', 'js', 'go']\n"
     ]
    }
   ],
   "source": [
    "languages = [\"python\",\"js\",\"go\"]\n",
    "languages.insert(0, 'java')\n",
    "print(languages)"
   ]
  },
  {
   "cell_type": "markdown",
   "metadata": {},
   "source": [
    "刪除"
   ]
  },
  {
   "cell_type": "code",
   "execution_count": 6,
   "metadata": {},
   "outputs": [
    {
     "name": "stdout",
     "output_type": "stream",
     "text": [
      "['python', 'js']\n"
     ]
    }
   ],
   "source": [
    "languages = [\"python\",\"js\",\"go\"]\n",
    "del languages[-1]\n",
    "print(languages)"
   ]
  },
  {
   "cell_type": "code",
   "execution_count": 7,
   "metadata": {},
   "outputs": [
    {
     "name": "stdout",
     "output_type": "stream",
     "text": [
      "['python', 'go']\n"
     ]
    }
   ],
   "source": [
    "a=[\"python\",\"js\",\"go\"]\n",
    "del a[-2]\n",
    "print(a)"
   ]
  },
  {
   "cell_type": "markdown",
   "metadata": {},
   "source": [
    "長度"
   ]
  },
  {
   "cell_type": "code",
   "execution_count": 8,
   "metadata": {},
   "outputs": [
    {
     "name": "stdout",
     "output_type": "stream",
     "text": [
      "3\n"
     ]
    }
   ],
   "source": [
    "print(len(['python', 'js', 'go']))"
   ]
  },
  {
   "cell_type": "code",
   "execution_count": 9,
   "metadata": {},
   "outputs": [
    {
     "name": "stdout",
     "output_type": "stream",
     "text": [
      "True\n",
      "False\n"
     ]
    }
   ],
   "source": [
    "a=['python', 'js', 'go']\n",
    "print('python' in a)\n",
    "print('java' in a)"
   ]
  },
  {
   "cell_type": "code",
   "execution_count": 10,
   "metadata": {},
   "outputs": [
    {
     "name": "stdout",
     "output_type": "stream",
     "text": [
      "['python', 'js', 'go', 'python', 'js', 'go', 'python', 'js', 'go', 'python', 'js', 'go', 'python', 'js', 'go']\n"
     ]
    }
   ],
   "source": [
    "a=['python', 'js', 'go']\n",
    "print(a*5)"
   ]
  },
  {
   "cell_type": "markdown",
   "metadata": {},
   "source": [
    "串列重複"
   ]
  },
  {
   "cell_type": "code",
   "execution_count": 11,
   "metadata": {},
   "outputs": [
    {
     "name": "stdout",
     "output_type": "stream",
     "text": [
      "[1, 2, 1, 2, 1, 2, 1, 2, 1, 2]\n"
     ]
    }
   ],
   "source": [
    "a=[1,2]\n",
    "print(a*5)"
   ]
  },
  {
   "cell_type": "markdown",
   "metadata": {},
   "source": [
    "串列取值"
   ]
  },
  {
   "cell_type": "code",
   "execution_count": 12,
   "metadata": {},
   "outputs": [
    {
     "name": "stdout",
     "output_type": "stream",
     "text": [
      "[1, 2, 3]\n",
      "[1, 3, 5, 7, 9]\n",
      "[1, 2, 3, 4, 5, 6, 7]\n",
      "1\n",
      "7\n",
      "0\n",
      "1\n",
      "[7, 6, 5, 4, 3, 2, 1]\n",
      "[1, 2, 3, 4, 5, 6, 7]\n"
     ]
    }
   ],
   "source": [
    "a=[1,2,3,4,5,6,7,8,9]\n",
    "b=a[0:3]  #範圍取值\n",
    "print(b)\n",
    "c=a[0:9:2]  #間隔取值\n",
    "print(c)\n",
    "del a[7:9]  #刪除串列某範圍的值\n",
    "print(a)\n",
    "print(min(a))  #最小值\n",
    "print(max(a))  #最大值\n",
    "print(a.index(1))  #1出現的索引值\n",
    "print(a.count(1))  #1出現的次數\n",
    "a.reverse()  #串列反轉\n",
    "print(a)\n",
    "a.sort()  #串列排序\n",
    "print(a)"
   ]
  },
  {
   "cell_type": "markdown",
   "metadata": {},
   "source": [
    "元組可以視為不可改變的串列tuple跟list很像，但是我們不能新增刪除或者更新 tuple的元素 元組比起串列好處: 占用空間較少可以當做字典的key(因不可變) 具名tuple 可當做物件替代當做函式引數"
   ]
  },
  {
   "cell_type": "code",
   "execution_count": 13,
   "metadata": {},
   "outputs": [
    {
     "name": "stdout",
     "output_type": "stream",
     "text": [
      "('python', 'js', 'go')\n",
      "python\n"
     ]
    }
   ],
   "source": [
    "a_list = ['python','js','go']\n",
    "a_tuple = tuple(a_list)\n",
    "print(a_tuple)\n",
    "print(a_tuple[0])"
   ]
  },
  {
   "cell_type": "markdown",
   "metadata": {},
   "source": [
    "tuple元組"
   ]
  },
  {
   "cell_type": "code",
   "execution_count": 14,
   "metadata": {},
   "outputs": [
    {
     "name": "stdout",
     "output_type": "stream",
     "text": [
      "[1, 2, 3, 4, 5, 6, 7]\n",
      "(1, 2, 3, 4, 5, 6, 7)\n",
      "1\n"
     ]
    }
   ],
   "source": [
    "a=[1,2,3,4,5,6,7]\n",
    "a_tuple=tuple(a)\n",
    "print(a)\n",
    "print(a_tuple)\n",
    "print(a_tuple[0])"
   ]
  },
  {
   "cell_type": "markdown",
   "metadata": {},
   "source": [
    "字典(dictionary-dict)，為帶有鍵值(key)的串列(list)"
   ]
  },
  {
   "cell_type": "code",
   "execution_count": 15,
   "metadata": {},
   "outputs": [
    {
     "name": "stdout",
     "output_type": "stream",
     "text": [
      "python\n",
      "{'name': 'python', 'version': '3.5'}\n",
      "dict_keys(['name', 'version'])\n",
      "dict_values(['python', '3.5'])\n",
      "dict_items([('name', 'python'), ('version', '3.5')])\n",
      "True\n"
     ]
    }
   ],
   "source": [
    "languages = {}\n",
    "languages = {'name':'python','version':'3.5'}\n",
    "print(languages['name'])\n",
    "print(languages)\n",
    "print(languages.keys())\n",
    "print(languages.values())\n",
    "print(languages.items())\n",
    "print('name' in languages)"
   ]
  },
  {
   "cell_type": "markdown",
   "metadata": {},
   "source": [
    "dictionary(簡稱dict)，是含有key值的串列(list)"
   ]
  },
  {
   "cell_type": "code",
   "execution_count": 16,
   "metadata": {},
   "outputs": [
    {
     "name": "stdout",
     "output_type": "stream",
     "text": [
      "tony\n",
      "20\n",
      "python\n",
      "{'name': 'tony', 'age': 20, 'sex': 'M', 'height': '170', 'weight': '55'}\n",
      "dict_items([('name', 'tony'), ('age', 20), ('sex', 'M'), ('height', '170'), ('weight', '55')])\n",
      "dict_keys(['name', 'age', 'sex', 'height', 'weight'])\n",
      "dict_values(['tony', 20, 'M', '170', '55'])\n",
      "{'name': 'tony', 'age': 20, 'sex': 'M', 'height': 170, 'weight': 55}\n"
     ]
    }
   ],
   "source": [
    "person_dict={'name':'tony','age':20,'sex':'M','height':'170','weight':'55'}\n",
    "print(person_dict['name'])\n",
    "print(person_dict['age'])\n",
    "a_list=['python','java','vb']\n",
    "a_dict={0:'python',1:'java',2:'vb'}\n",
    "print(a_dict[0])\n",
    "print(person_dict)\n",
    "print(person_dict.items())\n",
    "print(person_dict.keys())\n",
    "print(person_dict.values())\n",
    "a=['name', 'age', 'sex', 'height', 'weight']\n",
    "b=['tony', 20, 'M', 170, 55]\n",
    "ab_dict=dict(zip(a,b)) #由兩個list組合而成dictionary\n",
    "print(ab_dict)"
   ]
  },
  {
   "cell_type": "code",
   "execution_count": null,
   "metadata": {},
   "outputs": [],
   "source": []
  }
 ],
 "metadata": {
  "kernelspec": {
   "display_name": "Python 3",
   "language": "python",
   "name": "python3"
  },
  "language_info": {
   "codemirror_mode": {
    "name": "ipython",
    "version": 3
   },
   "file_extension": ".py",
   "mimetype": "text/x-python",
   "name": "python",
   "nbconvert_exporter": "python",
   "pygments_lexer": "ipython3",
   "version": "3.6.4"
  }
 },
 "nbformat": 4,
 "nbformat_minor": 2
}
